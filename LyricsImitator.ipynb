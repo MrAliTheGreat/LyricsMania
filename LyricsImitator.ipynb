{
 "cells": [
  {
   "cell_type": "code",
   "execution_count": 1,
   "id": "92707887",
   "metadata": {},
   "outputs": [],
   "source": [
    "from os import listdir"
   ]
  },
  {
   "cell_type": "code",
   "execution_count": 2,
   "id": "9ca5b1d0",
   "metadata": {},
   "outputs": [
    {
     "name": "stdout",
     "output_type": "stream",
     "text": [
      "Number of sentences: 3490\n"
     ]
    }
   ],
   "source": [
    "artist = \"Imagine Dragons\"\n",
    "dataPath = f\"./Dataset/{artist}/\"\n",
    "lyrics = \"\"\n",
    "\n",
    "for song in listdir(dataPath):\n",
    "    with open(dataPath + song, mode = \"r\") as songFile:\n",
    "        lyrics += songFile.read().lower()\n",
    "        \n",
    "lyrics = lyrics.split(\"\\n\")\n",
    "print(f\"Number of sentences: {len(lyrics)}\")"
   ]
  },
  {
   "cell_type": "code",
   "execution_count": 3,
   "id": "e8a38d02",
   "metadata": {},
   "outputs": [],
   "source": [
    "import numpy as np\n",
    "\n",
    "from tensorflow.keras.preprocessing.text import Tokenizer\n",
    "from tensorflow.keras.preprocessing.sequence import pad_sequences\n",
    "from tensorflow.keras.utils import to_categorical\n",
    "from tensorflow.keras.layers import Embedding, LSTM, Dense, Bidirectional\n",
    "from tensorflow.keras.models import Sequential\n",
    "from tensorflow.keras.optimizers import Adam"
   ]
  },
  {
   "cell_type": "code",
   "execution_count": 4,
   "id": "be7ce66a",
   "metadata": {},
   "outputs": [
    {
     "name": "stdout",
     "output_type": "stream",
     "text": [
      "Total num words: 1982\n",
      "=====\n",
      "Word Index Dictionary\n",
      "{'the': 1, 'i': 2, 'you': 3, 'to': 4, 'me': 5, 'a': 6, 'and': 7, 'my': 8, 'it': 9, \"i'm\": 10, 'of': 11, 'in': 12, 'we': 13, 'oh': 14, 'all': 15, 'that': 16, \"it's\": 17, 'la': 18, 'for': 19, 'is': 20, 'up': 21, 'your': 22, \"don't\": 23, 'just': 24, 'love': 25, 'be': 26, 'hey': 27, 'on': 28, 'this': 29, 'can': 30, 'know': 31, 'but': 32, 'are': 33, 'out': 34, 'down': 35, 'let': 36, 'so': 37, 'been': 38, 'what': 39, 'with': 40, 'never': 41, 'get': 42, \"i've\": 43, 'got': 44, 'now': 45, 'go': 46, 'life': 47, 'come': 48, 'when': 49, 'take': 50, \"i'll\": 51, 'not': 52, 'do': 53, 'from': 54, 'time': 55, 'if': 56, 'like': 57, 'no': 58, 'make': 59, 'everything': 60, 'one': 61, \"you're\": 62, 'wanna': 63, 'tell': 64, 'see': 65, 'look': 66, 'will': 67, 'want': 68, 'over': 69, 'at': 70, 'where': 71, 'was': 72, 'feel': 73, \"'cause\": 74, 'they': 75, 'back': 76, 'ready': 77, 'eyes': 78, 'way': 79, 'am': 80, 'believe': 81, 'away': 82, 'mind': 83, 'could': 84, \"won't\": 85, 'night': 86, 'always': 87, \"we've\": 88, 'again': 89, 'dream': 90, \"we're\": 91, 'another': 92, 'gotta': 93, 'lo': 94, 'then': 95, 'did': 96, 'only': 97, 'right': 98, 'these': 99, 'here': 100, 'have': 101, 'think': 102, 'made': 103, \"that's\": 104, 'thunder': 105, 'more': 106, 'living': 107, 'change': 108, 'give': 109, 'hold': 110, 'comes': 111, 'same': 112, 'm': 113, 'things': 114, 'fall': 115, \"you'll\": 116, 'ooh': 117, 'every': 118, 'leave': 119, 'real': 120, 'pain': 121, 'world': 122, 'hear': 123, 'mouth': 124, 'river': 125, 'head': 126, 'coming': 127, 'were': 128, 'cause': 129, 'how': 130, 'say': 131, 'start': 132, 'some': 133, 'baby': 134, \"you've\": 135, 'open': 136, 'high': 137, 'gonna': 138, 'too': 139, 'lost': 140, \"can't\": 141, 'matter': 142, 'inside': 143, 'man': 144, 'turn': 145, 'who': 146, 'an': 147, 'top': 148, 'through': 149, 'believer': 150, 'by': 151, 'cha': 152, 'would': 153, 'nothing': 154, 'sorry': 155, 'other': 156, 'fire': 157, 'day': 158, 'far': 159, 'town': 160, 'why': 161, 'while': 162, 'or': 163, 'keep': 164, 'ever': 165, 'meant': 166, 'face': 167, 'low': 168, 'home': 169, 'digital': 170, 'find': 171, 'looking': 172, 'levitate': 173, 'heart': 174, 'hard': 175, 'thing': 176, 'show': 177, 'nobody': 178, 'fly': 179, 'wrong': 180, 'run': 181, 'close': 182, 'break': 183, 'last': 184, 'gold': 185, 'shake': 186, 'giving': 187, 'wire': 188, 'wait': 189, 'save': 190, 'taking': 191, 'moving': 192, 'walking': 193, 'yeah': 194, 'own': 195, 'easier': 196, 'burn': 197, 'cry': 198, 'rain': 199, 'us': 200, 'die': 201, 'blood': 202, 'little': 203, 'each': 204, 'into': 205, 'touch': 206, 'fight': 207, 'bottom': 208, 'falling': 209, \"here's\": 210, 'something': 211, 'second': 212, 'ground': 213, 'part': 214, 'cool': 215, 'trouble': 216, 'bet': 217, 'going': 218, 'takes': 219, 'higher': 220, 'rock': 221, 'shot': 222, 'long': 223, 'sun': 224, 'before': 225, 'them': 226, 'end': 227, 'future': 228, 'hide': 229, 'boomerang': 230, 'enough': 231, \"doesn't\": 232, \"there's\": 233, 'still': 234, 'yesterday': 235, \"isn't\": 236, 'days': 237, 'left': 238, 'alive': 239, 'age': 240, 'without': 241, 'dark': 242, 'live': 243, 'ching': 244, 'hell': 245, \"sayin'\": 246, 'everybody': 247, 'hands': 248, 'had': 249, 'ba': 250, 'fault': 251, 'missing': 252, 'today': 253, \"'ay\": 254, 'aim': 255, 'tokyo': 256, 'name': 257, 'around': 258, 'stop': 259, 'said': 260, 'nights': 261, 'those': 262, 'as': 263, 'join': 264, 'dancing': 265, 'new': 266, 'begging': 267, 'monster': 268, 'side': 269, 'bad': 270, 'son': 271, 'i’m': 272, 'light': 273, 'waiting': 274, 'sounds': 275, 'she': 276, \"they've\": 277, 'maybe': 278, 'woah': 279, 'lie': 280, \"they're\": 281, 'tonight': 282, 'veins': 283, 'there': 284, 'till': 285, 'stay': 286, 'our': 287, 'mess': 288, 'outside': 289, 'emma': 290, 'fallen': 291, 'off': 292, 'door': 293, 'welcome': 294, 'honey': 295, 'years': 296, 'liar': 297, 'gun': 298, 'please': 299, 'build': 300, 'about': 301, 'need': 302, 'bleeding': 303, 'red': 304, 'seen': 305, 'soul': 306, 'demons': 307, 'old': 308, 'guess': 309, 'bee': 310, 'bu': 311, 'hole': 312, \"we'll\": 313, 'glory': 314, 'whoa': 315, 'radioactive': 316, 'round': 317, 'drift': 318, 'aright': 319, 'father': 320, 'whatever': 321, 'hello': 322, 'zero': 323, 'good': 324, 'than': 325, 'myself': 326, 'call': 327, 'west': 328, 'thought': 329, 'trust': 330, 'tears': 331, 'breathe': 332, 'line': 333, 'calling': 334, 'boi': 335, 'feeling': 336, 'luck': 337, 'eclipses': 338, 'lightning': 339, 'since': 340, 'people': 341, 'easy': 342, 'well': 343, 'dreams': 344, 'changing': 345, 'took': 346, 'moon': 347, 'gone': 348, 'many': 349, 'throw': 350, 'born': 351, 'stand': 352, 'watch': 353, 'slow': 354, 'front': 355, 'knew': 356, 'silence': 357, 'middle': 358, 'holding': 359, \"what's\": 360, 'understand': 361, 'loved': 362, 'somehow': 363, 'machine': 364, 'morning': 365, 'short': 366, 'darkness': 367, 'fear': 368, \"lettin'\": 369, 'saying': 370, 'okay': 371, 'lights': 372, 'most': 373, 'road': 374, 'below': 375, 'place': 376, 'cannot': 377, 'trying': 378, 'done': 379, 'told': 380, 'single': 381, 'money': 382, 'seem': 383, 'boom': 384, 'roots': 385, 'uptight': 386, 'better': 387, 'turns': 388, 'lot': 389, 'colors': 390, 'body': 391, 'free': 392, 'tried': 393, 'both': 394, 'much': 395, 'oooo': 396, 'above': 397, 'hoping': 398, 'grow': 399, 'fill': 400, 'pay': 401, 'seems': 402, 'sing': 403, 'truth': 404, 'heartbeat': 405, \"ain't\": 406, 'dreaming': 407, 'eye': 408, 'mr': 409, 'empty': 410, 'fades': 411, 'wall': 412, 'friends': 413, 'chances': 414, 'tiptoe': 415, 'older': 416, 'rise': 417, 'he': 418, 'bring': 419, 'crashing': 420, 'escape': 421, 'sea': 422, 'young': 423, 'came': 424, 'broke': 425, 'send': 426, 'birds': 427, 'hope': 428, \"lookin'\": 429, 'working': 430, 'lose': 431, 'floor': 432, 'tight': 433, 'chingaling': 434, 'cover': 435, 'edge': 436, 'cold': 437, 'heavy': 438, 'reason': 439, 'anything': 440, 'asleep': 441, 'hopeless': 442, 'remember': 443, 'play': 444, 'forgive': 445, 'found': 446, 'phone': 447, 'help': 448, 'bit': 449, 'word': 450, \"'bout\": 451, 'else': 452, 'eclipse': 453, 'goes': 454, 'wake': 455, 'blow': 456, 'coast': 457, 'lay': 458, 'after': 459, 'because': 460, 'deep': 461, 'wanted': 462, 'strength': 463, 'ones': 464, 'set': 465, 'train': 466, 'wish': 467, 'mean': 468, 'battle': 469, 'first': 470, 'words': 471, 'bullets': 472, 'drive': 473, 'rained': 474, 'tomorrow': 475, 'lonely': 476, 'bullet': 477, 'running': 478, 'blame': 479, 'late': 480, 'wept': 481, \"we'd\": 482, 'dirt': 483, 'ha': 484, 'grave': 485, 'strong': 486, 'picture': 487, 'path': 488, \"couldn't\": 489, 'dangerous': 490, 'smile': 491, 'step': 492, 'view': 493, 'bigger': 494, 'scared': 495, 'keeps': 496, 'clear': 497, 'wrath': 498, 'giver': 499, 'sinner': 500, 'walk': 501, 'lucky': 502, 'astronomer': 503, 'child': 504, 'breaking': 505, 'knees': 506, 'smoke': 507, 'mirrors': 508, 'torture': 509, \"'em\": 510, 'strapped': 511, 'warriors': 512, 'built': 513, 'spend': 514, 'adrenaline': 515, 'alright': 516, 'until': 517, 'city': 518, 'sign': 519, 'caught': 520, 'wind': 521, 'anyone': 522, 'shaking': 523, 'gave': 524, 'try': 525, 'yourself': 526, 'year': 527, 'don’t': 528, 'it’s': 529, 'faith': 530, 'perfect': 531, 'nowhere': 532, 'tired': 533, 'master': 534, 'broken': 535, 'singing': 536, 'sound': 537, 'count': 538, 'flames': 539, \"'til\": 540, 'turned': 541, 'direction': 542, \"wishin'\": 543, 'sins': 544, 'reach': 545, 'innocence': 546, 'lies': 547, 'promise': 548, 'damn': 549, 'best': 550, 'quite': 551, 'barely': 552, 'listen': 553, \"'round\": 554, 'pushing': 555, 'heat': 556, 'fade': 557, 'strangers': 558, 'opus': 559, 'slip': 560, 'hit': 561, \"i'd\": 562, 'sees': 563, 'ah': 564, 'sale': 565, 'used': 566, 'follow': 567, 'rather': 568, 'begin': 569, 'admit': 570, 'chest': 571, 'color': 572, 'getting': 573, 'under': 574, 'changes': 575, 'next': 576, 'apart': 577, \"he's\": 578, 'fast': 579, 'rolling': 580, 'waking': 581, 'making': 582, 'nice': 583, 'summertime': 584, 'underdog': 585, 'goodbye': 586, 'friend': 587, 'breathing': 588, 'leaving': 589, 'awake': 590, 'their': 591, 'deny': 592, 'bright': 593, 'water': 594, 'land': 595, 'doing': 596, 'america': 597, 'upon': 598, 'brain': 599, 'brother': 600, 'alone': 601, 'shine': 602, \"wouldn't\": 603, \"darlin'\": 604, 'does': 605, 'problems': 606, 'safe': 607, 'beauty': 608, 'third': 609, 'game': 610, 'thing’s': 611, 'has': 612, 'hearts': 613, 'seasons': 614, 'leaves': 615, 'death': 616, 'shadow': 617, 'bleed': 618, 'bare': 619, 'skin': 620, 'sky': 621, 'sleepless': 622, 'should': 623, 'rang': 624, 'pull': 625, 'sweat': 626, 'box': 627, 'worker': 628, 'soldier': 629, 'control': 630, 'fresh': 631, 'wishing': 632, 'crazy': 633, 'distance': 634, 'stray': 635, 'fills': 636, 'talk': 637, 'curse': 638, 'her': 639, 'talking': 640, 'kingdom': 641, 'unless': 642, 'moves': 643, 'being': 644, \"everything's\": 645, 'lead': 646, 'loaded': 647, 'hair': 648, 'candle': 649, 'ride': 650, 'shadows': 651, 'stuck': 652, 'friction': 653, 'cherry': 654, 'bomb': 655, 'throwing': 656, 'space': 657, 'kind': 658, 'roams': 659, 'guy': 660, 'recognize': 661, 'fit': 662, 'mine': 663, 'everyone': 664, 'feels': 665, \"current's\": 666, 'dig': 667, 'shallow': 668, 'might': 669, 'really': 670, 'wondering': 671, 'questioning': 672, 'paint': 673, 'vision': 674, 'behind': 675, 'learn': 676, 'pretty': 677, 'memory': 678, 'holy': 679, 'paying': 680, 'dues': 681, 'hallelujah': 682, 'lane': 683, 'freight': 684, 'lone': 685, 'rover': 686, 'dust': 687, 'bones': 688, 'systems': 689, 'backs': 690, \"empire's\": 691, 'loose': 692, 'floors': 693, 'street': 694, 'meeting': 695, 'ooo': 696, 'simmer': 697, 'meet': 698, 'kimi': 699, 'tanoshimu': 700, 'palms': 701, \"rock'n'roll\": 702, 'whip': 703, 'lip': 704, 'rip': 705, 'lives': 706, 'foolish': 707, 'yet': 708, 'ocean': 709, '25': 710, 'seconds': 711, 'resting': 712, '20': 713, 'names': 714, 'died': 715, 'tend': 716, 'longer': 717, 'fake': 718, 'erase': 719, 'happiness': 720, 'diamond': 721, 'ring': 722, 'i’ve': 723, 'afraid': 724, 'stars': 725, 'king': 726, 'masses': 727, 'writing': 728, 'his': 729, 'breath': 730, 'lived': 731, 'inhibited': 732, 'limited': 733, 'job': 734, 'spirit': 735, 'dove': 736, 'ashes': 737, 'slide': 738, 'past': 739, 'screaming': 740, 'beating': 741, 'yes': 742, 'sellout': 743, 'watching': 744, 'boiling': 745, 'wild': 746, 'big': 747, 'runs': 748, 'very': 749, 'jury': 750, 'golden': 751, 'places': 752, 'sit': 753, 'speak': 754, 'cards': 755, 'fail': 756, 'beast': 757, 'greed': 758, 'though': 759, 'fate': 760, 'painted': 761, 'instead': 762, 'hang': 763, 'loves': 764, 'ya': 765, 'ease': 766, 'choice': 767, 'rest': 768, 'lately': 769, 'write': 770, 'filled': 771, 'race': 772, 'become': 773, 'closer': 774, 'headlights': 775, \"you'd\": 776, 'dead': 777, 'plans': 778, 'hand': 779, 'yours': 780, 'looked': 781, 'shut': 782, 'looks': 783, 'shooting': 784, 'star': 785, \"cuz'\": 786, 'makes': 787, 'kids': 788, 'raise': 789, 'guide': 790, 'stronger': 791, 'self': 792, 'pacing': 793, 'air': 794, 'lovers': 795, 'watcher': 796, 'you’ll': 797, 'outerspace': 798, 'true': 799, 'thank': 800, 'key': 801, 'thinking': 802, 'runny': 803, 'funny': 804, 'overfed': 805, 'polaroid': 806, 'void': 807, 'indication': 808, 'window': 809, 'chain': 810, 'sucker': 811, 'eat': 812, 'crumble': 813, 'dynamite': 814, 'early': 815, 'evening': 816, 'beeline': 817, 'outshine': 818, 'hazy': 819, 'ways': 820, 'chains': 821, 'uphill': 822, 'talked': 823, 'grown': 824, 'tallest': 825, 'tree': 826, 'changed': 827, 'worse': 828, 'sure': 829, 'chase': 830, 'pose': 831, 'dot': 832, 'among': 833, 'fact': 834, 'mei': 835, 'drown': 836, 'burns': 837, 'tossed': 838, 'drowned': 839, 'lift': 840, 'press': 841, 'towers': 842, '7': 843, 'list': 844, 'mother': 845, 'fine': 846, 'amsterdam': 847, 'tin': 848, 'mystery': 849, \"wasn't\": 850, 'walls': 851, 'hush': 852, 'fears': 853, 'paradise': 854, \"tearin'\": 855, 'seams': 856, 'you’re': 857, \"askin'\": 858, 'war': 859, 'poison': 860, 'fired': 861, 'sail': 862, 'poems': 863, 'few': 864, 'heartache': 865, 'message': 866, 'speaking': 867, 'lesson': 868, 'seeing': 869, 'attic': 870, 'huh': 871, 'wear': 872, 'dragon': 873, 'miss': 874, \"losin'\": 875, 'grace': 876, 'prayer': 877, 'hate': 878, 'heard': 879, 'ebbin’': 880, 'flowin’': 881, '‘til': 882, 'two': 883, 'temporary': 884, \"watchin'\": 885, \"it'd\": 886, 'hour': 887, 'emptiness': 888, 'times': 889, 'work': 890, 'booma': 891, 'bipolar': 892, 'trigger': 893, 'price': 894, 'learned': 895, 'patience': 896, 'gets': 897, 'weather': 898, 'beautiful': 899, 'peace': 900, 'him': 901, 'sleep': 902, 'doors': 903, 'staring': 904, 'telling': 905, 'losing': 906, 'facing': 907, 'stunning': 908, 'port': 909, 'read': 910, 'song': 911, 'along': 912, 'spotlight': 913, 'sang': 914, 'grabbed': 915, 'shined': 916, \"she's\": 917, 'worry': 918, 'streets': 919, 'headed': 920, 'keeping': 921, 'stale': 922, 'breed': 923, 'bound': 924, 'order': 925, 'resurrect': 926, 'shorter': 927, 'fury': 928, 'judge': 929, 'others': 930, 'saw': 931, 'sorrows': 932, 'cries': 933, 'actually': 934, 'supposed': 935, 'enemies': 936, 'searching': 937, 'sense': 938, 'brothers': 939, 'sisters': 940, 'ending': 941, 'even': 942, \"playin'\": 943, 'system': 944, 'rings': 945, 'voice': 946, 'pretend': 947, 'kiss': 948, 'won': 949, 'relate': 950, 'adore': 951, 'cage': 952, 'walked': 953, 'passing': 954, 'faces': 955, 'risk': 956, 'beg': 957, 'soir': 958, 'et': 959, 'moi': 960, 'tu': 961, 'together': 962, 'brought': 963, 'straight': 964, 'sin': 965, 'seat': 966, 'trip': 967, 'remind': 968, 'whole': 969, 'crying': 970, 'bedroom': 971, 'fair': 972, 'excuses': 973, 'shines': 974, 'til': 975, 'tables': 976, 'drew': 977, 'spent': 978, 'check': 979, 'sleeps': 980, 'house': 981, 'beat': 982, 'flying': 983, \"'cus\": 984, 'bail': 985, 'yellow': 986, 'raft': 987, 'satisfied': 988, 'cuz': 989, 'gunning': 990, 'shunning': 991, 'news': 992, 'shocking': 993, 'put': 994, 'headphones': 995, 'kill': 996, \"sittin'\": 997, 'table': 998, 'fable': 999, \"a'wishin'\": 1000, 'petition': 1001, 'belly': 1002, 'cup': 1003, 'endless': 1004, 'ambition': 1005, 'problem': 1006, 'waters': 1007, 'solar': 1008, 'full': 1009, 'lunar': 1010, 'soon': 1011, 'swear': 1012, 'room': 1013, 'lines': 1014, 'shattered': 1015, 'stupid': 1016, 'chance': 1017, 'finally': 1018, \"other's\": 1019, 'knows': 1020, 'cut': 1021, 'number': 1022, 'care': 1023, 'business': 1024, 'arms': 1025, \"he'll\": 1026, 'quick': 1027, 'wipe': 1028, 'shaping': 1029, 'checking': 1030, 'prison': 1031, 'bus': 1032, 'apocalypse': 1033, 'mission': 1034, 'fix': 1035, 'less': 1036, 'needs': 1037, 'season': 1038, 'rocks': 1039, 'timber': 1040, 'circling': 1041, 'stone': 1042, \"there'll\": 1043, 'forgiveness': 1044, 'known': 1045, 'remain': 1046, 'center': 1047, 'typically': 1048, 'validation': 1049, 'sleeve': 1050, 'resolutions': 1051, 'kitchen': 1052, 'clueless': 1053, 'destiny': 1054, 'expect': 1055, 'bay': 1056, 'shore': 1057, 'moonlight': 1058, 'breaker': 1059, 'gatekeeper': 1060, 'maker': 1061, 'taker': 1062, 'having': 1063, 'probably': 1064, 'wet': 1065, 'prefer': 1066, 'hurt': 1067, 'dick': 1068, 'shit': 1069, 'smiling': 1070, 'believed': 1071, 'praying': 1072, 'baggage': 1073, 'mention': 1074, 'rush': 1075, 'superman': 1076, 'ghost': 1077, 'waves': 1078, 'racehorse': 1079, 'ripcord': 1080, 'letter': 1081, 'afternoon': 1082, 'darker': 1083, 'crooked': 1084, 'tradition': 1085, 'masterful': 1086, 'magician': 1087, 'met': 1088, \"haven't\": 1089, 'regret': 1090, 'anywhere': 1091, 'balance': 1092, 'chaos': 1093, 'demigod': 1094, '27': 1095, 'thirty': 1096, 'extraordinarily': 1097, 'determine': 1098, 'alrighteverything': 1099, 'century': 1100, 'anarchy': 1101, 'corresponding': 1102, 'symbolize': 1103, 'attest': 1104, 'range': 1105, 'assess': 1106, 'attain': 1107, 'intrigue': 1108, 'entities': 1109, 'entice': 1110, 'entertain': 1111, 'alll': 1112, 'torn': 1113, 'dim': 1114, 'sand': 1115, 'listening': 1116, 'illusion': 1117, 'debt': 1118, 'government': 1119, 'farmers': 1120, 'fields': 1121, '1': 1122, '6': 1123, \"oohi'm\": 1124, 'lover': 1125, 'kinda': 1126, 'fantastically': 1127, 'congratulations': 1128, 'any': 1129, 'shortoh': 1130, 'dear': 1131, 'difficult': 1132, 'terrors': 1133, 'prey': 1134, 'innocent': 1135, 'victims': 1136, 'loveless': 1137, 'three': 1138, 'integrity': 1139, 'crocodile': 1140, 'for—': 1141, 'wage': 1142, \"enemy's\": 1143, 'mejust': 1144, 'visible': 1145, 'evolving': 1146, 'skies': 1147, 'nowfirst': 1148, \"i'ma\": 1149, \"sulkin'\": 1150, 's': 1151, 'huhok': 1152, \"feelin'\": 1153, 'accurate': 1154, 'strategy': 1155, 'sweet': 1156, 'cavities': 1157, 'passages': 1158, 'traffic': 1159, 'basement': 1160, 'whoever': 1161, 'simply': 1162, \"let's\": 1163, 'mathematic': 1164, 'unicorn': 1165, 'zebra': 1166, 'uniform': 1167, 'tuxedo': 1168, 'breather': 1169, 'cita': 1170, 'leader': 1171, \"bloomin'\": 1172, 'shame': 1173, 'tunechi': 1174, 'wayne': 1175, 'without…': 1176, \"ebbin'\": 1177, \"flowin'\": 1178, 'believerbeliever': 1179, '–': 1180, 'imagine': 1181, 'i’mma': 1182, 'sulking': 1183, 'shook': 1184, 'feelin’': 1185, 'singin’': 1186, 'takin’': 1187, 'speakin’': 1188, 'seein’': 1189, 'you’ve': 1190, 'chokin’': 1191, 'buildin’': 1192, 'cloud': 1193, 'fallin’': 1194, 'feelings': 1195, 'believertwo': 1196, 'valve': 1197, \"pumpin'\": 1198, 'flood': 1199, \"stickin'\": 1200, \"makin'\": 1201, 'sunsets': 1202, 'sunrises': 1203, \"livin'\": 1204, \"changin'\": 1205, \"relivin'\": 1206, \"dreamin'\": 1207, \"flyin'\": 1208, 'cast': 1209, \"highi'm\": 1210, 'beneath': 1211, 'grey': 1212, 'fi': 1213, 'nd': 1214, 'nigh': 1215, 'hopelessness': 1216, 'sinking': 1217, 'wolves': 1218, 'hollering': 1219, 'fed': 1220, 'scarecrow': 1221, 'youhow': 1222, \"movin'\": 1223, 'worth': 1224, 'ahead': 1225, 'means': 1226, 'boomerangthe': 1227, 'roman': 1228, 'romulance': 1229, 'precipice': 1230, 'chage': 1231, 'final': 1232, 'appraise': 1233, 'agustus': 1234, 'nero': 1235, \"devil's\": 1236, 'deal': 1237, 'crown': 1238, 'voices': 1239, 'lessons': 1240, 'artists': 1241, 'insane': 1242, 'further': 1243, 'furies': 1244, 'sadness': 1245, 'enemy': 1246, 'gently': 1247, 'friendly': 1248, 'shivering': 1249, \"money's\": 1250, 'parade': 1251, 'chingalingcool': 1252, 'spacing': 1253, 'pressure': 1254, 'cruse': 1255, 'speed': 1256, 'black': 1257, 'white': 1258, 'detest': 1259, \"outthere's\": 1260, 'halls': 1261, 'beckon': 1262, 'glimmer': 1263, 'gathers': 1264, 'breaks': 1265, 'helps': 1266, 'ran': 1267, 'children': 1268, 'lands': 1269, 'combine': 1270, 'great': 1271, 'mass': 1272, 'stole': 1273, 'fame': 1274, 'valley': 1275, 'flies': 1276, 'screams': 1277, 'noises': 1278, 'cluttered': 1279, 'tonightshe': 1280, 'country': 1281, 'needed': 1282, 'held': 1283, 'such': 1284, 'hurry': 1285, 'slick': 1286, 'towards': 1287, 'agony': 1288, \"namedon't\": 1289, 'monday': 1290, 'bubble': 1291, 'weight': 1292, 'weekend': 1293, 'babywhen': 1294, 'fold': 1295, 'saints': 1296, 'hail': 1297, 'worst': 1298, \"blood's\": 1299, 'shelter': 1300, \"curtain's\": 1301, 'sinners': 1302, 'crawl': 1303, 'dug': 1304, 'masquerade': 1305, 'woven': 1306, 'hideyou': 1307, 'everythingin': 1308, 'mark': 1309, 'tier': 1310, 'rides': 1311, 'surface': 1312, 'seventeen': 1313, 'teenage': 1314, 'crystallized': 1315, 'prettiest': 1316, 'hallways': 1317, 'curtains': 1318, 'drawn': 1319, 'closed': 1320, 'reasons': 1321, 'dreamemma': 1322, 'stood': 1323, \"tellin'\": 1324, 'jackie': 1325, 'cross': 1326, 'bourbon': 1327, 'bicycles': 1328, 'carnivals': 1329, 'dinner': 1330, 'bells': 1331, 'playing': 1332, 'innoncence': 1333, 'sentiment': 1334, 'owned': 1335, \"youi'm\": 1336, 'colorless': 1337, 'sunrise': 1338, 'ruffles': 1339, 'hardly': 1340, 'thin': 1341, 'fallenget': 1342, 'victim': 1343, 'irrelevance': 1344, 'tip': 1345, 'needle': 1346, 'bird': 1347, 'snow': 1348, 'offfast': 1349, 'blessing': 1350, 'dreamed': 1351, 'curses': 1352, 'diamonds': 1353, 'appeal': 1354, 'can’t': 1355, 'false': 1356, 'statues': 1357, 'empires': 1358, 'wine': 1359, 'finest': 1360, 'sands': 1361, 'have’s': 1362, 'turnin’': 1363, 'heart’s': 1364, 'dying': 1365, 'goldtry': 1366, 'history': 1367, 'awry': 1368, 'shoes': 1369, 'shuffle': 1370, 'ninth': 1371, 'sharp': 1372, 'hustle': 1373, 'dive': 1374, 'team': 1375, 'postman': 1376, 'green': 1377, 'note': 1378, 'opusi': 1379, \"didn't\": 1380, 'slave': 1381, 'unto': 1382, 'wildest': 1383, 'million': 1384, 'records': 1385, 'youwe': 1386, 'crowd': 1387, 'loving': 1388, 'vacant': 1389, 'alibi': 1390, 'trading': 1391, 'essence': 1392, 'desire': 1393, 'youdid': 1394, 'sunday': 1395, 'dress': 1396, 'astrology': 1397, 'irradicated': 1398, 'flows': 1399, 'western': 1400, 'shaded': 1401, \"alli'm\": 1402, 'fueled': 1403, 'guys': 1404, 'ce': 1405, \"c'est\": 1406, 'le': 1407, 'toi': 1408, 'allez': 1409, 'viens': 1410, 'voir': 1411, 'très': 1412, 'bien': 1413, 'ouh': 1414, 'ne': 1415, 'réponds': 1416, 'pas': 1417, 'dis': 1418, 'pourquoi': 1419, 'au': 1420, 'revoir': 1421, 'voilà': 1422, 'boiwelcome': 1423, 'attire': 1424, 'crippled': 1425, 'ohoh': 1426, 'glasses': 1427, 'minute': 1428, 'considering': 1429, \"'shake\": 1430, \"body'\": 1431, 'glittering': 1432, \"greeter's\": 1433, 'smash': 1434, 'fairy': 1435, 'tale': 1436, 'nearly': 1437, 'failed': 1438, 'perhaps': 1439, \"meit's\": 1440, 'recover': 1441, 'photographs': 1442, 'win': 1443, 'killing': 1444, 'youtook': 1445, 'vices': 1446, 'darkest': 1447, 'promises': 1448, 'fleeting': 1449, 'thoughts': 1450, 'lifeline': 1451, 'youabout': 1452, 'deeds': 1453, 'roaring': 1454, 'stopped': 1455, 'deceiving': 1456, 'men': 1457, 'conceive': 1458, 'sorry4': 1459, 'beside': 1460, 'mental': 1461, 'health': 1462, 'point': 1463, 'learnt': 1464, 'therapy': 1465, 'mocking': 1466, 'greater': 1467, 'cowardess': 1468, 'studied': 1469, 'bliss': 1470, 'youso': 1471, 'pit': 1472, 'packing': 1473, 'bags': 1474, 'academy': 1475, 'fell': 1476, 'sell': 1477, 'heaven': 1478, 'miles': 1479, 'clouded': 1480, 'turning': 1481, 'rags': 1482, 'commodities': 1483, 'slowly': 1484, 'amtake': 1485, 'bush': 1486, 'tendency': 1487, 'woman': 1488, 'disgrace': 1489, 'car': 1490, 'liked': 1491, 'motor': 1492, 'warm': 1493, 'stranger': 1494, 'candlelight': 1495, \"nowthere's\": 1496, 'filling': 1497, 'ascend': 1498, \"journey's\": 1499, 'bend': 1500, 'silver': 1501, 'gate': 1502, 'levitatetake': 1503, 'whim': 1504, 'provides': 1505, 'divides': 1506, 'swim': 1507, 'gin': 1508, 'colour': 1509, 'shirt': 1510, \"stayin'\": 1511, 'limb': 1512, 'deaf': 1513, 'taught': 1514, 'mist': 1515, 'hath': 1516, 'matters': 1517, \"causeit's\": 1518, 'seeming': 1519, 'elders': 1520, 'flipping': 1521, 'races': 1522, 'bloodstream': 1523, 'machineever': 1524, 'pretenders': 1525, 'conscience': 1526, 'different': 1527, 'burden': 1528, 'faithful': 1529, 'bow': 1530, 'someone': 1531, 'alkaline': 1532, 'basics': 1533, 'overboard': 1534, 'destructive': 1535, 'important': 1536, 'anxious': 1537, 'assured': 1538, 'nervous': 1539, 'riveri': 1540, 'saturday': 1541, 'fog': 1542, 'steam': 1543, 'asking': 1544, 'stare': 1545, 'loud': 1546, 'brightest': 1547, 'faintest': 1548, 'becomes': 1549, 'during': 1550, 'called': 1551, '70': 1552, 'align': 1553, 'between': 1554, 'earth': 1555, 'solor': 1556, 'luner': 1557, 'let’s': 1558, 'shadowing': 1559, \"happenin'\": 1560, \"lookin'at\": 1561, 'total': 1562, 'umbra': 1563, 'penumbra': 1564, 'astronomersomething': 1565, 'casually': 1566, 'confident': 1567, 'stress': 1568, 'cigarettes': 1569, 'politics': 1570, 'deficits': 1571, 'bills': 1572, 'overages': 1573, \"screamin'\": 1574, \"hollerin'\": 1575, 'overlook': 1576, 'blooded': 1577, 'effortless': 1578, 'privilege': 1579, 'deck': 1580, 'vice': 1581, 'youthere': 1582, 'todaywho': 1583, 'thinner': 1584, 'wise': 1585, 'engine': 1586, 'collapsing': 1587, 'drowning': 1588, 'somebody': 1589, 'may': 1590, 'went': 1591, 'depends': 1592, 'highest': 1593, 'mountains': 1594, 'deepest': 1595, 'rivers': 1596, 'corners': 1597, 'kept': 1598, 'coulda': 1599, 'traveled': 1600, 'motivator': 1601, 'behavior': 1602, 'lady': 1603, \"you'remy\": 1604, 'operator': 1605, 'dialling': 1606, 'disaster': 1607, 'answer': 1608, 'devotion': 1609, \"worldyou've\": 1610, 'pantomime': 1611, 'paradigm': 1612, 'meantime': 1613, 'tall': 1614, 'tan': 1615, 'religious': 1616, 'rhinestones': 1617, 'cellphone': 1618, 'dare': 1619, 'reckless': 1620, 'mistake': 1621, \"night's\": 1622, 'intake': 1623, 'wreck': 1624, 'class': 1625, 'letdown': 1626, 'headcase': 1627, 'arriving': 1628, 'midnight': 1629, 'talker': 1630, 'alley': 1631, 'walker': 1632, 'pace': 1633, 'pour': 1634, \"polaroidi'm\": 1635, 'ash': 1636, 'brow': 1637, 'rust': 1638, 'chemicals': 1639, 'flags': 1640, 'don': 1641, 'clothes': 1642, 'revolution': 1643, 'suppose': 1644, \"hasn't\": 1645, 'resistance': 1646, \"bubblin'\": 1647, 'festering': 1648, 'motion': 1649, 'potion': 1650, 'casing': 1651, \"tunnel's\": 1652, 'fighting': 1653, \"riffle's\": 1654, 'sight': 1655, 'heckle': 1656, 'shackle': 1657, 'awayshe': 1658, 'says': 1659, 'shots': 1660, 'prays': 1661, 'god': 1662, 'aside': 1663, 'answers': 1664, 'heyi': 1665, 'seeking': 1666, 'elevation': 1667, 'shaken': 1668, 'hiding': 1669, 'hunter': 1670, 'bursting': 1671, 'fourth': 1672, 'july': 1673, 'prime': 1674, 'embrace': 1675, 'strangerswhere': 1676, 'threw': 1677, 'forest': 1678, 'apartdon’t': 1679, 'stones': 1680, 'anybody': 1681, 'finds': 1682, 'noise': 1683, 'belief': 1684, 'which': 1685, 'washed': 1686, 'wave': 1687, 'rootswe': 1688, 'escaping': 1689, 'afflicted': 1690, 'fiction': 1691, 'building': 1692, 'case': 1693, 'eviction': 1694, 'guarding': 1695, 'tower': 1696, 'ancients': 1697, 'arrows': 1698, 'patiently': 1699, 'purpose': 1700, 'setting': 1701, 'forolder': 1702, 'stubborn': 1703, 'hotter': 1704, 'subtle': 1705, 'quicker': 1706, 'whiter': 1707, 'bone': 1708, 'atone': 1709, 'chancesto': 1710, 'tasteless': 1711, 'underworld': 1712, 'cleopatra': 1713, 'demonstrated': 1714, 'destination': 1715, 'desolation': 1716, 'brink': 1717, 'metaphoric': 1718, 'tattered': 1719, 'pane': 1720, 'crowning': 1721, 'caesar': 1722, \"selenei'm\": 1723, \"takin'\": 1724, 'granted': 1725, 'awaythis': 1726, 'sweep': 1727, 'buildings': 1728, 'starting': 1729, 'cave': 1730, 'flame': 1731, 'disappear': 1732, 'clenched': 1733, 'teeth': 1734, 'its': 1735, 'toll': 1736, 'volumes': 1737, 'sheets': 1738, 'hotel': 1739, 'guillotine': 1740, 'razor': 1741, 'blade': 1742, 'usual': 1743, 'blades': 1744, 'often': 1745, 'mundane': 1746, 'french': 1747, 'kissing': 1748, 'fellatio': 1749, 'vipers': 1750, 'feces': 1751, \"nephew's\": 1752, 'diapers': 1753, 'juice': 1754, \"bitch's\": 1755, 'snatch': 1756, 'fingers': 1757, \"tortoise's\": 1758, 'ass': 1759, 'improving': 1760, 'freestyle': 1761, 'piss': 1762, 'fun': 1763, 'smell': 1764, 'flesh': 1765, 'roasted': 1766, 'asked': 1767, 'eggshells': 1768, 'replace': 1769, 'layers': 1770, 'thorns': 1771, 'nails': 1772, \"hell's\": 1773, 'raised': 1774, 'verse': 1775, 'literally': 1776, 'metaphorically': 1777, 'bitch': 1778, 'fucked': 1779, 'plead': 1780, 'idea': 1781, 'bath': 1782, 'toxins': 1783, 'ivy': 1784, 'yup': 1785, 'misery': 1786, 'company': 1787, 'gives': 1788, 'pleasure': 1789, 'kiel': 1790, 'b': 1791, \"asa's\": 1792, 'cooking': 1793, 'stove': 1794, 'intercourse': 1795, 'uh': 1796, 'hesitate': 1797, 'suck': 1798, 'weird': 1799, 'untrained': 1800, 'express': 1801, 'fuck': 1802, 'source': 1803, 'helpless': 1804, \"err'day\": 1805, 'drink': 1806, 'fountain': 1807, 'youth': 1808, 'quit': 1809, 'hurting': 1810, 'oil': 1811, 'dysfunctional': 1812, 'beggingif': 1813, 'secrets': 1814, 'pictures': 1815, 'purifying': 1816, 'opulence': 1817, 'summertimemaybe': 1818, \"could've\": 1819, 'spoken': 1820, 'sooner': 1821, \"should've\": 1822, 'destined': 1823, 'distraught': 1824, 'helped': 1825, 'awayget': 1826, 'silent': 1827, 'kites': 1828, 'forgotten': 1829, 'starry': 1830, 'seagulls': 1831, 'yell': 1832, 'ohjust': 1833, 'fuse': 1834, 'yessir': 1835, 'follower': 1836, 'mold': 1837, 'foyer': 1838, 'laughing': 1839, 'classes': 1840, 'scheming': 1841, 'basic': 1842, 'riding': 1843, 'backseat': 1844, 'stage': 1845, 'clapping': 1846, 'nose': 1847, 'bleeds': 1848, 'thunderin': 1849, 'flight': 1850, 'vicious': 1851, 'catch': 1852, 'wondered': 1853, 'slanted': 1854, 'dew': 1855, 'sink': 1856, 'soil': 1857, 'boil': 1858, \"higherbaby's\": 1859, 'bought': 1860, 'ticket': 1861, 'mid': 1862, 'dismissed': 1863, 'interest': 1864, 'mistress': 1865, 'hostess': 1866, \"baby's\": 1867, 'chick': 1868, 'politely': 1869, 'okyo': 1870, 'okyooh': 1871, 'quiet': 1872, 'settled': 1873, 'later': 1874, 'photograph': 1875, 'nineteen': 1876, 'redemption': 1877, 'sister': 1878, 'pack': 1879, 'lighter': 1880, 'glitz': 1881, 'glam': 1882, 'knowearly': 1883, 'settle': 1884, 'underdogsay': 1885, 'trends': 1886, 'itdo': 1887, 'storm': 1888, 'raging': 1889, 'against': 1890, 'leap': 1891, 'roars': 1892, 'course': 1893, 'belowas': 1894, 'scheme': 1895, 'prove': 1896, 'dies': 1897, 'farewell': 1898, 'throne': 1899, 'weep': 1900, 'labor': 1901, 'cursing': 1902, 'scars': 1903, 'cried': 1904, 'grant': 1905, 'devil': 1906, 'ignored': 1907, 'heyfalling': 1908, 'prepare': 1909, 'tripping': 1910, 'vulturous': 1911, 'negative': 1912, 'nepotist': 1913, 'typical': 1914, 'miserable': 1915, 'hanging': 1916, 'visual': 1917, 'invisible': 1918, 'martyrdom': 1919, 'prodigal': 1920, 'hypocritical': 1921, 'egotistical': 1922, 'parenthetical': 1923, 'hypothetical': 1924, 'onto': 1925, 'proud': 1926, 'epoxy': 1927, 'apostrophe': 1928, 'symbol': 1929, 'product': 1930, 'catastrophe': 1931, 'masterpiece': 1932, 'half': 1933, 'diseased': 1934, 'deceased': 1935, 'least': 1936, 'happily': 1937, 'thee': 1938, 'takesup': 1939, 'picking': 1940, 'clocks': 1941, 'mountain': 1942, \"king's\": 1943, 'lair': 1944, 'blocks': 1945, 'cellar': 1946, 'static': 1947, 'book': 1948, 'jealousy': 1949, 'hereshake': 1950, 'highway': 1951, 'headache': 1952, 'heartbreak': 1953, 'mistakes': 1954, 'serious': 1955, 'fatal': 1956, 'books': 1957, 'labels': 1958, \"ithere's\": 1959, 'wasting': 1960, 'crash': 1961, 'collision': 1962, 'hostage': 1963, 'pride': 1964, 'volition': 1965, 'saint': 1966, 'swing': 1967, 'astray': 1968, 'yesterdayi': 1969, 'steady': 1970, 'november': 1971, 'december': 1972, 'certain': 1973, 'walkin’': 1974, 'summer': 1975, 'wide': 1976, 'eyed': 1977, 'wonder': 1978, 'doves': 1979, 'crow': 1980, 'there’s': 1981}\n"
     ]
    }
   ],
   "source": [
    "tokenizer = Tokenizer()\n",
    "tokenizer.fit_on_texts(lyrics)               # Generate the word index dictionary\n",
    "totalWords = len(tokenizer.word_index) + 1   # With padding which is 0\n",
    "\n",
    "print(f\"Total num words: {totalWords}\")\n",
    "print(\"=====\")\n",
    "print(\"Word Index Dictionary\")\n",
    "print(tokenizer.word_index)"
   ]
  },
  {
   "cell_type": "code",
   "execution_count": 5,
   "id": "d21ab429",
   "metadata": {},
   "outputs": [],
   "source": [
    "input_sequences = []\n",
    "\n",
    "for line in lyrics:\n",
    "    token_list = tokenizer.texts_to_sequences([line])[0]\n",
    "    for i in range(1, len(token_list)):\n",
    "        n_gram_sequence = token_list[:i + 1]\n",
    "        input_sequences.append(n_gram_sequence)\n",
    "        \n",
    "max_sequence_len = max([len(seq) for seq in input_sequences])\n",
    "input_sequences = np.array(pad_sequences(input_sequences, maxlen = max_sequence_len, padding = \"pre\"))\n",
    "xs, labels = input_sequences[:,:-1] , input_sequences[:,-1]\n",
    "ys = to_categorical(labels, num_classes = totalWords)"
   ]
  },
  {
   "cell_type": "code",
   "execution_count": 6,
   "id": "840e276c",
   "metadata": {},
   "outputs": [
    {
     "name": "stdout",
     "output_type": "stream",
     "text": [
      "Sample sentence: ['good', 'morning', 'my', 'love']\n",
      "Token list: [324, 365, 8, 25]\n",
      "\n",
      "Padded token list: [  0   0   0   0   0   0   0   0   0   0   0   0   0   0   0   0   0   0\n",
      "   0   0 324]\n",
      "Decoded token list to text: ['good']\n",
      "\n",
      "One-hot label: [0. 0. 0. ... 0. 0. 0.]\n",
      "Index of label: 365\n",
      "Decoded Label: morning\n"
     ]
    }
   ],
   "source": [
    "sentence = lyrics[0].split(\" \")\n",
    "print(f\"Sample sentence: {sentence}\")\n",
    "\n",
    "token_list = []\n",
    "for word in sentence: \n",
    "    token_list.append(tokenizer.word_index[word])\n",
    "\n",
    "print(f\"Token list: {token_list}\")\n",
    "\n",
    "print(f\"\\nPadded token list: {xs[0]}\")\n",
    "print(f\"Decoded token list to text: {tokenizer.sequences_to_texts([xs[0]])}\")\n",
    "\n",
    "print(f\"\\nOne-hot label: {ys[0]}\")\n",
    "print(f\"Index of label: {np.argmax(ys[0])}\")\n",
    "print(f\"Decoded Label: {tokenizer.index_word[365]}\")"
   ]
  },
  {
   "cell_type": "code",
   "execution_count": 7,
   "id": "cad38f00",
   "metadata": {},
   "outputs": [
    {
     "name": "stdout",
     "output_type": "stream",
     "text": [
      "Model: \"sequential\"\n",
      "_________________________________________________________________\n",
      " Layer (type)                Output Shape              Param #   \n",
      "=================================================================\n",
      " embedding (Embedding)       (None, 21, 100)           198200    \n",
      "                                                                 \n",
      " bidirectional (Bidirectiona  (None, 300)              301200    \n",
      " l)                                                              \n",
      "                                                                 \n",
      " dense (Dense)               (None, 1982)              596582    \n",
      "                                                                 \n",
      "=================================================================\n",
      "Total params: 1,095,982\n",
      "Trainable params: 1,095,982\n",
      "Non-trainable params: 0\n",
      "_________________________________________________________________\n"
     ]
    }
   ],
   "source": [
    "embeddingDim = 100\n",
    "lstmUnits = 150\n",
    "learningRate = 0.01\n",
    "\n",
    "model = Sequential([\n",
    "          Embedding(totalWords, embeddingDim, input_length = max_sequence_len - 1),\n",
    "          Bidirectional(LSTM(lstmUnits)),\n",
    "          Dense(totalWords, activation = \"softmax\")\n",
    "])\n",
    "\n",
    "model.compile(\n",
    "    loss = \"categorical_crossentropy\", \n",
    "    optimizer = Adam(learning_rate = learningRate), \n",
    "    metrics = [\"accuracy\"]\n",
    ")\n",
    "\n",
    "model.summary()"
   ]
  },
  {
   "cell_type": "code",
   "execution_count": 8,
   "id": "0e8cc2ee",
   "metadata": {},
   "outputs": [
    {
     "name": "stdout",
     "output_type": "stream",
     "text": [
      "Epoch 1/50\n",
      "608/608 [==============================] - 31s 45ms/step - loss: 5.1109 - accuracy: 0.1626\n",
      "Epoch 2/50\n",
      "608/608 [==============================] - 29s 48ms/step - loss: 3.3019 - accuracy: 0.3837\n",
      "Epoch 3/50\n",
      "608/608 [==============================] - 28s 47ms/step - loss: 2.4284 - accuracy: 0.4880\n",
      "Epoch 4/50\n",
      "608/608 [==============================] - 29s 47ms/step - loss: 1.9607 - accuracy: 0.5563\n",
      "Epoch 5/50\n",
      "608/608 [==============================] - 29s 47ms/step - loss: 1.7002 - accuracy: 0.5965\n",
      "Epoch 6/50\n",
      "608/608 [==============================] - 29s 48ms/step - loss: 1.5349 - accuracy: 0.6273\n",
      "Epoch 7/50\n",
      "608/608 [==============================] - 29s 48ms/step - loss: 1.4026 - accuracy: 0.6495\n",
      "Epoch 8/50\n",
      "608/608 [==============================] - 29s 48ms/step - loss: 1.3290 - accuracy: 0.6641\n",
      "Epoch 9/50\n",
      "608/608 [==============================] - 32s 52ms/step - loss: 1.3413 - accuracy: 0.6591\n",
      "Epoch 10/50\n",
      "608/608 [==============================] - 30s 49ms/step - loss: 1.3256 - accuracy: 0.6635\n",
      "Epoch 11/50\n",
      "608/608 [==============================] - 29s 48ms/step - loss: 1.1981 - accuracy: 0.6909\n",
      "Epoch 12/50\n",
      "608/608 [==============================] - 29s 48ms/step - loss: 1.1288 - accuracy: 0.7089\n",
      "Epoch 13/50\n",
      "608/608 [==============================] - 29s 48ms/step - loss: 1.1427 - accuracy: 0.7036\n",
      "Epoch 14/50\n",
      "608/608 [==============================] - 30s 49ms/step - loss: 1.1825 - accuracy: 0.6886\n",
      "Epoch 15/50\n",
      "608/608 [==============================] - 29s 47ms/step - loss: 1.2028 - accuracy: 0.6883\n",
      "Epoch 16/50\n",
      "608/608 [==============================] - 29s 48ms/step - loss: 1.1965 - accuracy: 0.6908\n",
      "Epoch 17/50\n",
      "608/608 [==============================] - 29s 48ms/step - loss: 1.1865 - accuracy: 0.6880\n",
      "Epoch 18/50\n",
      "608/608 [==============================] - 30s 49ms/step - loss: 1.1511 - accuracy: 0.7014\n",
      "Epoch 19/50\n",
      "608/608 [==============================] - 29s 48ms/step - loss: 1.0540 - accuracy: 0.7201\n",
      "Epoch 20/50\n",
      "608/608 [==============================] - 30s 49ms/step - loss: 1.0591 - accuracy: 0.7182\n",
      "Epoch 21/50\n",
      "608/608 [==============================] - 29s 48ms/step - loss: 1.1106 - accuracy: 0.7061\n",
      "Epoch 22/50\n",
      "608/608 [==============================] - 30s 49ms/step - loss: 1.1486 - accuracy: 0.6977\n",
      "Epoch 23/50\n",
      "608/608 [==============================] - 29s 48ms/step - loss: 1.1333 - accuracy: 0.7020\n",
      "Epoch 24/50\n",
      "608/608 [==============================] - 29s 48ms/step - loss: 1.0626 - accuracy: 0.7155\n",
      "Epoch 25/50\n",
      "608/608 [==============================] - 29s 48ms/step - loss: 0.9952 - accuracy: 0.7326\n",
      "Epoch 26/50\n",
      "608/608 [==============================] - 29s 48ms/step - loss: 0.9997 - accuracy: 0.7310\n",
      "Epoch 27/50\n",
      "608/608 [==============================] - 29s 48ms/step - loss: 1.0542 - accuracy: 0.7171\n",
      "Epoch 28/50\n",
      "608/608 [==============================] - 29s 48ms/step - loss: 1.0957 - accuracy: 0.7102\n",
      "Epoch 29/50\n",
      "608/608 [==============================] - 29s 48ms/step - loss: 1.1065 - accuracy: 0.7057\n",
      "Epoch 30/50\n",
      "608/608 [==============================] - 29s 48ms/step - loss: 1.0399 - accuracy: 0.7232\n",
      "Epoch 31/50\n",
      "608/608 [==============================] - 29s 48ms/step - loss: 1.0369 - accuracy: 0.7219\n",
      "Epoch 32/50\n",
      "608/608 [==============================] - 26s 43ms/step - loss: 1.0211 - accuracy: 0.7256\n",
      "Epoch 33/50\n",
      "608/608 [==============================] - 26s 42ms/step - loss: 1.0313 - accuracy: 0.7220\n",
      "Epoch 34/50\n",
      "608/608 [==============================] - 26s 42ms/step - loss: 1.0937 - accuracy: 0.7080\n",
      "Epoch 35/50\n",
      "608/608 [==============================] - 26s 42ms/step - loss: 1.0615 - accuracy: 0.7174\n",
      "Epoch 36/50\n",
      "608/608 [==============================] - 26s 42ms/step - loss: 1.0087 - accuracy: 0.7285\n",
      "Epoch 37/50\n",
      "608/608 [==============================] - 26s 42ms/step - loss: 0.9858 - accuracy: 0.7353\n",
      "Epoch 38/50\n",
      "608/608 [==============================] - 26s 42ms/step - loss: 0.9884 - accuracy: 0.7312\n",
      "Epoch 39/50\n",
      "608/608 [==============================] - 30s 49ms/step - loss: 1.0251 - accuracy: 0.7239\n",
      "Epoch 40/50\n",
      "608/608 [==============================] - 30s 50ms/step - loss: 1.0559 - accuracy: 0.7173\n",
      "Epoch 41/50\n",
      "608/608 [==============================] - 30s 50ms/step - loss: 1.0297 - accuracy: 0.7220\n",
      "Epoch 42/50\n",
      "608/608 [==============================] - 31s 50ms/step - loss: 0.9881 - accuracy: 0.7310\n",
      "Epoch 43/50\n",
      "608/608 [==============================] - 34s 55ms/step - loss: 0.9543 - accuracy: 0.7403\n",
      "Epoch 44/50\n",
      "608/608 [==============================] - 36s 59ms/step - loss: 0.9579 - accuracy: 0.7362\n",
      "Epoch 45/50\n",
      "608/608 [==============================] - 32s 52ms/step - loss: 1.0216 - accuracy: 0.7246\n",
      "Epoch 46/50\n",
      "608/608 [==============================] - 31s 52ms/step - loss: 1.0249 - accuracy: 0.7228\n",
      "Epoch 47/50\n",
      "608/608 [==============================] - 32s 52ms/step - loss: 1.0293 - accuracy: 0.7226\n",
      "Epoch 48/50\n",
      "608/608 [==============================] - 32s 52ms/step - loss: 0.9882 - accuracy: 0.7315\n",
      "Epoch 49/50\n",
      "608/608 [==============================] - 32s 52ms/step - loss: 1.0085 - accuracy: 0.7294\n",
      "Epoch 50/50\n",
      "608/608 [==============================] - 32s 52ms/step - loss: 0.9962 - accuracy: 0.7329\n"
     ]
    }
   ],
   "source": [
    "history = model.fit(xs, ys, epochs = 50)"
   ]
  },
  {
   "cell_type": "code",
   "execution_count": 9,
   "id": "b61f5170",
   "metadata": {},
   "outputs": [
    {
     "data": {
      "image/png": "[encoded data removed]",
      "text/plain": [
       "<Figure size 432x288 with 1 Axes>"
      ]
     },
     "metadata": {
      "needs_background": "light"
     },
     "output_type": "display_data"
    }
   ],
   "source": [
    "import matplotlib.pyplot as plt\n",
    "\n",
    "plt.plot(history.history[\"accuracy\"])\n",
    "plt.xlabel(\"Epochs\")\n",
    "plt.ylabel(\"accuracy\")\n",
    "plt.show()"
   ]
  },
  {
   "cell_type": "code",
   "execution_count": 21,
   "id": "716814c8",
   "metadata": {},
   "outputs": [
    {
     "name": "stdout",
     "output_type": "stream",
     "text": [
      "1/1 [==============================] - 0s 25ms/step\n",
      "1/1 [==============================] - 0s 16ms/step\n",
      "1/1 [==============================] - 0s 17ms/step\n",
      "1/1 [==============================] - 0s 14ms/step\n",
      "1/1 [==============================] - 0s 22ms/step\n",
      "1/1 [==============================] - 0s 21ms/step\n",
      "1/1 [==============================] - 0s 25ms/step\n",
      "1/1 [==============================] - 0s 18ms/step\n",
      "1/1 [==============================] - 0s 16ms/step\n",
      "1/1 [==============================] - 0s 21ms/step\n",
      "1/1 [==============================] - 0s 20ms/step\n",
      "1/1 [==============================] - 0s 21ms/step\n",
      "1/1 [==============================] - 0s 22ms/step\n",
      "1/1 [==============================] - 0s 21ms/step\n",
      "1/1 [==============================] - 0s 15ms/step\n",
      "1/1 [==============================] - 0s 23ms/step\n",
      "1/1 [==============================] - 0s 23ms/step\n",
      "1/1 [==============================] - 0s 23ms/step\n",
      "1/1 [==============================] - 0s 25ms/step\n",
      "1/1 [==============================] - 0s 23ms/step\n",
      "1/1 [==============================] - 0s 19ms/step\n",
      "1/1 [==============================] - 0s 22ms/step\n",
      "1/1 [==============================] - 0s 21ms/step\n",
      "1/1 [==============================] - 0s 25ms/step\n",
      "1/1 [==============================] - 0s 24ms/step\n",
      "1/1 [==============================] - 0s 23ms/step\n",
      "1/1 [==============================] - 0s 23ms/step\n",
      "1/1 [==============================] - 0s 18ms/step\n",
      "1/1 [==============================] - 0s 30ms/step\n",
      "1/1 [==============================] - 0s 27ms/step\n",
      "1/1 [==============================] - 0s 27ms/step\n",
      "1/1 [==============================] - 0s 23ms/step\n",
      "1/1 [==============================] - 0s 28ms/step\n",
      "1/1 [==============================] - 0s 22ms/step\n",
      "1/1 [==============================] - 0s 22ms/step\n",
      "1/1 [==============================] - 0s 21ms/step\n",
      "1/1 [==============================] - 0s 21ms/step\n",
      "1/1 [==============================] - 0s 22ms/step\n",
      "1/1 [==============================] - 0s 22ms/step\n",
      "1/1 [==============================] - 0s 21ms/step\n",
      "1/1 [==============================] - 0s 21ms/step\n",
      "1/1 [==============================] - 0s 19ms/step\n",
      "1/1 [==============================] - 0s 18ms/step\n",
      "1/1 [==============================] - 0s 16ms/step\n",
      "1/1 [==============================] - 0s 22ms/step\n",
      "1/1 [==============================] - 0s 22ms/step\n",
      "1/1 [==============================] - 0s 30ms/step\n",
      "1/1 [==============================] - 0s 26ms/step\n",
      "1/1 [==============================] - 0s 33ms/step\n",
      "1/1 [==============================] - 0s 24ms/step\n"
     ]
    }
   ],
   "source": [
    "seed_text = \"The sky's cloudy but it never rains\"\n",
    "next_words = 50\n",
    "\n",
    "for _ in range(next_words):\n",
    "    token_list = tokenizer.texts_to_sequences([seed_text])[0]\n",
    "    token_list = pad_sequences([token_list], maxlen = max_sequence_len - 1, padding = \"pre\")\n",
    "\n",
    "    probabilities = model.predict(token_list)\n",
    "    predicted = np.argmax(probabilities, axis = -1)[0]\n",
    "    if(predicted != 0):\n",
    "        output_word = tokenizer.index_word[predicted]\n",
    "        seed_text += \" \" + output_word"
   ]
  },
  {
   "cell_type": "code",
   "execution_count": 22,
   "id": "4f19b2ea",
   "metadata": {},
   "outputs": [
    {
     "name": "stdout",
     "output_type": "stream",
     "text": [
      "=============================================== Generated Lyrics ===============================================\n",
      "\n",
      "The sky's cloudy but it never rains eclipses is in the moon in the umbra of the river and the light up for your ground is a game of hearts feeling else something to make your mind ready to go ready to go ready to go like this fourth just when you hit the ground without poison\n"
     ]
    }
   ],
   "source": [
    "print(\"=============================================== Generated Lyrics ===============================================\\n\")\n",
    "print(seed_text)"
   ]
  },
  {
   "cell_type": "code",
   "execution_count": null,
   "id": "bdab72b6",
   "metadata": {},
   "outputs": [],
   "source": []
  }
 ],
 "metadata": {
  "kernelspec": {
   "display_name": "Python 3 (ipykernel)",
   "language": "python",
   "name": "python3"
  },
  "language_info": {
   "codemirror_mode": {
    "name": "ipython",
    "version": 3
   },
   "file_extension": ".py",
   "mimetype": "text/x-python",
   "name": "python",
   "nbconvert_exporter": "python",
   "pygments_lexer": "ipython3",
   "version": "3.7.12"
  }
 },
 "nbformat": 4,
 "nbformat_minor": 5
}
